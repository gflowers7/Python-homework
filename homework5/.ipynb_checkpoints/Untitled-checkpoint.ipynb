{
 "cells": [
  {
   "cell_type": "code",
   "execution_count": 357,
   "id": "40d6b59b-1359-4de5-8de0-13de1e5c6ca4",
   "metadata": {},
   "outputs": [
    {
     "data": {
      "text/plain": [
       "array([[5, 7, 9],\n",
       "       [7, 7, 7]])"
      ]
     },
     "execution_count": 357,
     "metadata": {},
     "output_type": "execute_result"
    }
   ],
   "source": [
    "import numpy as np\n",
    "starCluster = np.array([[1, 2, 3], [5, 7, 9], [2, 4, 6], [7, 7, 7]])\n",
    "def oddBrightness(array):\n",
    "    oddArray = np.empty((0, array.shape[1]), dtype=int)\n",
    "    for list in array:\n",
    "        oddCount = 0\n",
    "        evenCount = 0\n",
    "        for number in list:\n",
    "            if number % 2 == 1:\n",
    "                oddCount += 1\n",
    "            else:\n",
    "                evenCount += 1\n",
    "            if oddCount == 3:\n",
    "                oddArray = np.vstack([oddArray, list])\n",
    "    return oddArray\n",
    "    \n",
    "oddBrightness(starCluster)"
   ]
  },
  {
   "cell_type": "code",
   "execution_count": 359,
   "id": "84aee1c1-c58e-40f6-a5e3-6298812f0324",
   "metadata": {},
   "outputs": [
    {
     "data": {
      "text/plain": [
       "array([[0, 0, 0, 0, 0, 0, 0, 0],\n",
       "       [0, 0, 0, 0, 0, 0, 0, 0],\n",
       "       [0, 0, 0, 0, 0, 0, 0, 0],\n",
       "       [0, 0, 0, 0, 0, 0, 0, 0],\n",
       "       [0, 0, 0, 0, 0, 0, 0, 0],\n",
       "       [0, 0, 0, 0, 0, 0, 0, 0],\n",
       "       [0, 0, 0, 0, 0, 0, 0, 0],\n",
       "       [0, 0, 0, 0, 0, 0, 0, 0]])"
      ]
     },
     "execution_count": 359,
     "metadata": {},
     "output_type": "execute_result"
    }
   ],
   "source": [
    "def createCheckerboard():\n",
    "    checkerboard = np.zeros((8, 8), dtype=int)\n",
    "    return checkerboard\n",
    "\n",
    "createCheckerboard()"
   ]
  },
  {
   "cell_type": "code",
   "execution_count": 361,
   "id": "c556f9c1-adba-46ad-a7a4-3ef1b74ffe2c",
   "metadata": {},
   "outputs": [
    {
     "data": {
      "text/plain": [
       "array([[1, 0, 1, 0, 1, 0, 1, 0],\n",
       "       [0, 0, 0, 0, 0, 0, 0, 0],\n",
       "       [1, 0, 1, 0, 1, 0, 1, 0],\n",
       "       [0, 0, 0, 0, 0, 0, 0, 0],\n",
       "       [1, 0, 1, 0, 1, 0, 1, 0],\n",
       "       [0, 0, 0, 0, 0, 0, 0, 0],\n",
       "       [1, 0, 1, 0, 1, 0, 1, 0],\n",
       "       [0, 0, 0, 0, 0, 0, 0, 0]])"
      ]
     },
     "execution_count": 361,
     "metadata": {},
     "output_type": "execute_result"
    }
   ],
   "source": [
    "checkerboard = createCheckerboard()\n",
    "def oddRow(checkerboard):\n",
    "    for row in range(0, len(checkerboard)):\n",
    "        if row % 2 == 0:\n",
    "            for index, number in enumerate(checkerboard[row]):\n",
    "                if index % 2 == 0:\n",
    "                    checkerboard[row][index] = 1\n",
    "    return checkerboard\n",
    "\n",
    "oddRow(checkerboard)"
   ]
  },
  {
   "cell_type": "code",
   "execution_count": 363,
   "id": "320e942d-b4b0-4ae4-9304-93d818a59842",
   "metadata": {},
   "outputs": [
    {
     "data": {
      "text/plain": [
       "array([[1, 0, 1, 0, 1, 0, 1, 0],\n",
       "       [0, 1, 0, 1, 0, 1, 0, 1],\n",
       "       [1, 0, 1, 0, 1, 0, 1, 0],\n",
       "       [0, 1, 0, 1, 0, 1, 0, 1],\n",
       "       [1, 0, 1, 0, 1, 0, 1, 0],\n",
       "       [0, 1, 0, 1, 0, 1, 0, 1],\n",
       "       [1, 0, 1, 0, 1, 0, 1, 0],\n",
       "       [0, 1, 0, 1, 0, 1, 0, 1]])"
      ]
     },
     "execution_count": 363,
     "metadata": {},
     "output_type": "execute_result"
    }
   ],
   "source": [
    "checkerboard = createCheckerboard()\n",
    "oddRowCheckerboard = oddRow(checkerboard)\n",
    "def evenRow(checkerboard):\n",
    "    for row in range(0, len(checkerboard)):\n",
    "        if row % 2 == 1:\n",
    "            for index, number in enumerate(checkerboard[row]):\n",
    "                if index % 2 == 1:\n",
    "                    checkerboard[row][index] = 1\n",
    "    return checkerboard\n",
    "\n",
    "evenRow(oddRowCheckerboard)"
   ]
  },
  {
   "cell_type": "code",
   "execution_count": 365,
   "id": "0636625f-e854-463a-a9d2-7a5c5c04a1c6",
   "metadata": {},
   "outputs": [
    {
     "data": {
      "text/plain": [
       "array([[0, 1, 0, 1, 0, 1, 0, 1],\n",
       "       [1, 0, 1, 0, 1, 0, 1, 0],\n",
       "       [0, 1, 0, 1, 0, 1, 0, 1],\n",
       "       [1, 0, 1, 0, 1, 0, 1, 0],\n",
       "       [0, 1, 0, 1, 0, 1, 0, 1],\n",
       "       [1, 0, 1, 0, 1, 0, 1, 0],\n",
       "       [0, 1, 0, 1, 0, 1, 0, 1],\n",
       "       [1, 0, 1, 0, 1, 0, 1, 0]])"
      ]
     },
     "execution_count": 365,
     "metadata": {},
     "output_type": "execute_result"
    }
   ],
   "source": [
    "checkerboard = createCheckerboard()\n",
    "def reverseBoard(checkerboard):\n",
    "    for row in range(0, len(checkerboard)):\n",
    "        if row % 2 == 0:\n",
    "            for index, number in enumerate(checkerboard[row]):\n",
    "                if index % 2 == 1:\n",
    "                    checkerboard[row][index] = 1\n",
    "    for row in range(0, len(checkerboard)):\n",
    "        if row % 2 == 1:\n",
    "            for index, number in enumerate(checkerboard[row]):\n",
    "                if index % 2 == 0:\n",
    "                    checkerboard[row][index] = 1\n",
    "    return checkerboard\n",
    "\n",
    "reverseBoard(checkerboard)"
   ]
  },
  {
   "cell_type": "code",
   "execution_count": 373,
   "id": "c67277d1-b74b-405f-996d-00f6fd4c6cb7",
   "metadata": {},
   "outputs": [
    {
     "data": {
      "text/plain": [
       "array(['g a l a x y', 'b l a c k   h o l e'], dtype='<U32')"
      ]
     },
     "execution_count": 373,
     "metadata": {},
     "output_type": "execute_result"
    }
   ],
   "source": [
    "def expandingGalaxy(array, separation):\n",
    "    newArray = np.empty(0)\n",
    "    separationString = \" \"*separation\n",
    "    \n",
    "    for string in array:\n",
    "        newString = string[0]\n",
    "        for letters in string[1:]:\n",
    "            newString += separationString + letters\n",
    "        newArray = np.append(newArray, newString)\n",
    "    return newArray\n",
    "\n",
    "universe = np.array([\"galaxy\", \"black hole\"])\n",
    "expandingGalaxy(universe, 1)"
   ]
  },
  {
   "cell_type": "code",
   "execution_count": 375,
   "id": "eb6a5d3f-5f54-4b70-b2a8-b9cd5a4b70fc",
   "metadata": {},
   "outputs": [
    {
     "name": "stdout",
     "output_type": "stream",
     "text": [
      "[[271 319 257 576 145]\n",
      " [472 617 198 991 844]\n",
      " [136 379 448 596 401]\n",
      " [280 706 198 799 215]\n",
      " [290 352 260 355 422]]\n",
      "[[271 472 136 280 290]\n",
      " [319 617 379 706 352]\n",
      " [257 198 448 198 260]\n",
      " [576 991 596 799 355]\n",
      " [145 844 401 215 422]]\n"
     ]
    },
    {
     "data": {
      "text/plain": [
       "array([472, 706, 448, 991, 844])"
      ]
     },
     "execution_count": 375,
     "metadata": {},
     "output_type": "execute_result"
    }
   ],
   "source": [
    "def secondBiggest():\n",
    "    array = np.random.randint(100, 1000, (5, 5))\n",
    "    newArray = np.empty(0, dtype=int)\n",
    "    print(array)\n",
    "    print(array.T)\n",
    "    \n",
    "    for row in array.T:\n",
    "        biggestNumber = 0\n",
    "        for number in row:\n",
    "            if number >= biggestNumber:\n",
    "                biggestNumber = number\n",
    "        newArray = np.append(newArray, biggestNumber)\n",
    "    \n",
    "    return newArray\n",
    "    \n",
    "secondBiggest()"
   ]
  },
  {
   "cell_type": "code",
   "execution_count": null,
   "id": "44a1d92b-4d82-4b80-ba8a-cd058dd5d088",
   "metadata": {},
   "outputs": [],
   "source": []
  }
 ],
 "metadata": {
  "kernelspec": {
   "display_name": "Python 3 (ipykernel)",
   "language": "python",
   "name": "python3"
  },
  "language_info": {
   "codemirror_mode": {
    "name": "ipython",
    "version": 3
   },
   "file_extension": ".py",
   "mimetype": "text/x-python",
   "name": "python",
   "nbconvert_exporter": "python",
   "pygments_lexer": "ipython3",
   "version": "3.12.4"
  }
 },
 "nbformat": 4,
 "nbformat_minor": 5
}
