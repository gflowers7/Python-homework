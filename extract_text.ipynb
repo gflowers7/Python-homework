{
 "cells": [
  {
   "cell_type": "code",
   "execution_count": 6,
   "id": "86c29f58-9a1b-40e6-bf59-7b6aa80e3b01",
   "metadata": {
    "scrolled": true
   },
   "outputs": [
    {
     "name": "stdout",
     "output_type": "stream",
     "text": [
      "HW 3 - Data Types, Functions, Conditionals and\n",
      "Loops\n",
      "Due October 3, 2024 at 11:59pm\n",
      "1 Oski Stole Your Power\n",
      "Oskihackedyourcomputerandyoucannolongerusex**yorpow(x, y). Find\n",
      "a different way (by writing a function) that can compute x raised to the power\n",
      "of y.\n",
      ">>> x = 2\n",
      ">>> y = 3\n",
      ">>> computePower(x, y)\n",
      "8\n",
      "2 What Should I Wear?\n",
      "You are trying to decide what to wear to the Python DeCal lecture, but you\n",
      "are only concerned about the day’s lowest and highest temperatures. Write a\n",
      "function that takes in a list as input and returns a tuple with the min and max\n",
      "as two values.\n",
      ">>> readings = [15, 14, 17, 20, 23, 28, 20]\n",
      ">>> temperatureRange(readings)\n",
      "(14, 28)\n",
      "3 Check if its the Weekend\n",
      "All your classes have assigned problem sets due next week, and you want to\n",
      "check if it’s the weekend so you have time to work on them. Write a function\n",
      "that takes a day of the week (represented as an integer, where 1 = Monday, 2\n",
      "= Tuesday, etc) and returns True if its a weekend and False if otherwise.\n",
      ">>> day = 6 # Saturday\n",
      ">>> isWeekend(day)\n",
      "True\n",
      "1\n",
      "4 Fuel Efficiency Calculator\n",
      "The Python DeCal wants to take a trip to the Lick Observatory ( San Jose,\n",
      "CA)andtheywanttopickthebestcar. Writeafunctionthattakesthedistance\n",
      "traveled (in miles) and the amount of fuel consumed (in gallons) as input and\n",
      "returns the fuel efficiency.\n",
      ">>> distance = 70 # miles\n",
      ">>> fuel = 21.5 # gallons\n",
      ">>> fuel_efficiency(distance, fuel)\n",
      "3.26\n",
      "5 Secret Code\n",
      "Write a function that takes an integer as input and moves its last digit to the\n",
      "front of the number. You may NOT convert the input to a string. Hint: Try\n",
      "modulus (%) and floor division. (\\\\) to solve this problem.\n",
      ">>> n = 12345\n",
      ">>> decodeNumbers(n)\n",
      "51234\n",
      "6 Min & Max but with Loops!\n",
      "Oh no! Oski hacked you computer again... now you have lost the ability to use\n",
      "min() and max().\n",
      "6.1 For Loops\n",
      "Write two functions to manually find the minimum and maximum values in a\n",
      "list of numbers with for loops.\n",
      ">>> nums = [2024, 98, 131, 2, 3, 72]\n",
      ">>> find_min_with_for_loop(nums)\n",
      "2\n",
      ">>> find_max_with_for_loops(nums)\n",
      "2024\n",
      "6.2 While Loops\n",
      "Write two functions to manually find the minimum and maximum values in a\n",
      "list of numbers with while loops.\n",
      ">>> nums = [2024, 98, 131, 2, 3, 72]\n",
      ">>> find_min_with_while_loop(nums)\n",
      "2\n",
      "2\n",
      ">>> find_max_with_while_loops(nums)\n",
      "2024\n",
      "7 Counting Vowels\n",
      "Writeafunctionthattakesastringasaninputandreturnsthenumberofvowels\n",
      "in the string and the number of consonants in the string as tuple. Don’t forget\n",
      "about capital letters! Hint: You can use .isalpha() to check if a character is\n",
      "a letter.\n",
      ">>> text = \"UC Berkeley, founded in 1868!\"\n",
      ">>> vowel_and_consonant_count(text)\n",
      "(4, 11)\n",
      "8 Calculate Digital Root\n",
      "Write a function that takes an integer as an input and returns the sum of its\n",
      "digits.\n",
      ">>> num = 2468\n",
      ">>> digital_root(num)\n",
      "20\n",
      "3\n",
      "\n"
     ]
    }
   ],
   "source": [
    "import pdfplumber\n",
    "\n",
    "pdf_path = \"HW3.pdf\"  \n",
    "text = \"\"\n",
    "\n",
    "with pdfplumber.open(pdf_path) as pdf:\n",
    "    for page in pdf.pages:\n",
    "        text += page.extract_text() + \"\\n\"\n",
    "\n",
    "print(text) \n"
   ]
  },
  {
   "cell_type": "markdown",
   "id": "2273166f-2ee3-4826-bf20-a59584628454",
   "metadata": {},
   "source": [
    "HW 3 - Data Types, Functions, Conditionals and\n",
    "Loops\n",
    "<br>\n",
    "Due October 3, 2024 at 11:59pm\n",
    "<br>1 Oski Stole Your Power\n",
    "Oski hacked your computer and you can no longer use x**y or pow(x, y). Find\n",
    "a different way (by writing a function) that can compute x raised to the power\n",
    "of y. <br>\n",
    "<br> x = 2 <br>\n",
    "y = 3 \n",
    "<br>computePower(x, y)<br>\n",
    "<br>8"
   ]
  },
  {
   "cell_type": "code",
   "execution_count": 27,
   "id": "0ae68f23-f92a-44e1-bbc6-2ca8df5bddf6",
   "metadata": {},
   "outputs": [
    {
     "data": {
      "text/plain": [
       "8"
      ]
     },
     "execution_count": 27,
     "metadata": {},
     "output_type": "execute_result"
    }
   ],
   "source": [
    "\n",
    "x = 2\n",
    "y = 3\n",
    "\n",
    "def combo_1(x,y):\n",
    "    count = 1\n",
    "    for amountoftimeiterated in range(y):\n",
    "        count = count * x\n",
    "    return count\n",
    "\n",
    "combo_1(2,3)"
   ]
  },
  {
   "cell_type": "markdown",
   "id": "b1100680-c1d4-4c95-96b2-95361da28811",
   "metadata": {},
   "source": [
    "2) What Should I Wear?\n",
    "<br> You are trying to decide what to wear to the Python DeCal lecture, but you\n",
    "are only concerned about the day’s lowest and highest temperatures. Write a\n",
    "function that takes in a list as input and returns a tuple with the min and max\n",
    "as two values.\n",
    "<br> readings = [15, 14, 17, 20, 23, 28, 20]\n",
    "<br> temperatureRange(readings)\n",
    "<br>(14, 28)"
   ]
  },
  {
   "cell_type": "code",
   "execution_count": 31,
   "id": "ffe554d4-3a64-4cec-96e1-a6450d44df05",
   "metadata": {},
   "outputs": [
    {
     "name": "stdout",
     "output_type": "stream",
     "text": [
      "(14, 28)\n"
     ]
    }
   ],
   "source": [
    "def temperatureRange(readings):\n",
    "    min_temp = readings[0]\n",
    "    max_temp = readings[0]\n",
    "    \n",
    "    for temp in readings:\n",
    "        if temp < min_temp:\n",
    "            min_temp = temp\n",
    "        if temp > max_temp:\n",
    "            max_temp = temp\n",
    "    \n",
    "    return (min_temp, max_temp)\n",
    "\n",
    "readings = [15, 14, 17, 20, 23, 28, 20]\n",
    "result = temperatureRange(readings)\n",
    "print(result) \n"
   ]
  },
  {
   "cell_type": "markdown",
   "id": "e48680d5-8995-4b4a-a288-aa599f3ede6c",
   "metadata": {},
   "source": [
    "3) Check if its the Weekend <br>\n",
    "<br>All your classes have assigned problem sets due next week, and you want to\n",
    "check if it’s the weekend so you have time to work on them. Write a function\n",
    "that takes a day of the week (represented as an integer, where 1 = Monday, 2\n",
    "= Tuesday, etc) and returns True if its a weekend and False if otherwise.\n",
    "<br> day = 6 # Saturday\n",
    "<br> isWeekend(day)\n",
    "<br>True\n"
   ]
  },
  {
   "cell_type": "code",
   "execution_count": 35,
   "id": "81a96e4d-239f-4b0a-92b6-d0f6a9c88089",
   "metadata": {},
   "outputs": [
    {
     "name": "stdout",
     "output_type": "stream",
     "text": [
      "True\n"
     ]
    }
   ],
   "source": [
    "def isWeekend(day):\n",
    "    \n",
    "    if day == 6 or day == 7:\n",
    "        return True\n",
    "    else:\n",
    "        return False\n",
    "\n",
    "\n",
    "day = 6  \n",
    "result = isWeekend(day)\n",
    "print(result)  \n"
   ]
  },
  {
   "cell_type": "markdown",
   "id": "7725a079-3fe8-4dde-9bd5-cee46e92db84",
   "metadata": {},
   "source": [
    "5 Secret Code\n",
    "<br>Write a function that takes an integer as input and moves its last digit to the\n",
    "front of the number. You may NOT convert the input to a string. Hint: Try\n",
    "modulus (%) and floor division. (\\\\) to solve this problem.\n",
    "<br> n = 12345\n",
    "<br> decodeNumbers(n)\n",
    "<br>51234"
   ]
  },
  {
   "cell_type": "code",
   "execution_count": 10,
   "id": "31c8b17e-126b-4492-8fb4-aae6de47e696",
   "metadata": {},
   "outputs": [
    {
     "name": "stdout",
     "output_type": "stream",
     "text": [
      "51234\n"
     ]
    }
   ],
   "source": [
    "def decodeNumbers(n):\n",
    "    last_digit = n % 10\n",
    "    n = n // 10\n",
    "    if n == 0:\n",
    "        return last_digit \n",
    "        \n",
    "    multiplier = 1\n",
    "    temp = n\n",
    "    while temp > 0:\n",
    "        multiplier *= 10\n",
    "        temp //= 10\n",
    "    new_number = last_digit * multiplier + n\n",
    "    \n",
    "    return new_number\n",
    "\n",
    "\n",
    "n = 12345\n",
    "result = decodeNumbers(n)\n",
    "print(result)  \n"
   ]
  },
  {
   "cell_type": "markdown",
   "id": "936d56d6-580d-45fc-8dea-9b4e3fc5af69",
   "metadata": {},
   "source": [
    "6 Min & Max but with Loops!\n",
    "<br>Oh no! Oski hacked you computer again... now you have lost the ability to use\n",
    "min() and max().\n",
    "<br>6.1 For Loops\n",
    "<br>Write two functions to manually find the minimum and maximum values in a\n",
    "list of numbers with for loops.\n",
    "<br> nums = [2024, 98, 131, 2, 3, 72]\n",
    "<br> find_min_with_for_loop(nums)\n",
    "<br>2\n",
    "<br> find_max_with_for_loops(nums)\n",
    "<br>2024\n",
    "<br>6.2 While Loops\n",
    "<br>Write two functions to manually find the minimum and maximum values in a\n",
    "list of numbers with while loops.\n",
    "<br> nums = [2024, 98, 131, 2, 3, 72]\n",
    "<br> find_min_with_while_loop(nums)\n",
    "<br>2\n",
    "<br>2\n",
    "<br> find_max_with_while_loops(nums)\n",
    "<br>2024"
   ]
  },
  {
   "cell_type": "code",
   "execution_count": 13,
   "id": "62d80640-ba20-4967-9478-446535039fd3",
   "metadata": {},
   "outputs": [
    {
     "name": "stdout",
     "output_type": "stream",
     "text": [
      "Minimum: 2\n",
      "Maximum: 2024\n"
     ]
    }
   ],
   "source": [
    "#6.1\n",
    "def find_min_with_for_loop(nums):\n",
    "    min_value = nums[0]\n",
    "    for num in nums:\n",
    "        if num < min_value:\n",
    "            min_value = num \n",
    "            \n",
    "    return min_value\n",
    "\n",
    "def find_max_with_for_loop(nums):\n",
    "    max_value = nums[0]\n",
    "    for num in nums:\n",
    "        if num > max_value:\n",
    "            max_value = num  \n",
    "            \n",
    "    return max_value\n",
    "\n",
    "\n",
    "nums = [2024, 98, 131, 2, 3, 72]\n",
    "min_result = find_min_with_for_loop(nums)\n",
    "max_result = find_max_with_for_loop(nums)\n",
    "\n",
    "print(f\"Minimum: {min_result}\")  \n",
    "print(f\"Maximum: {max_result}\") \n"
   ]
  },
  {
   "cell_type": "code",
   "execution_count": 15,
   "id": "1adcea84-4946-4f12-8cf5-dac034650468",
   "metadata": {},
   "outputs": [
    {
     "name": "stdout",
     "output_type": "stream",
     "text": [
      "Minimum: 2\n",
      "Maximum: 2024\n"
     ]
    }
   ],
   "source": [
    "#6.2\n",
    "def find_min_with_while_loop(nums):\n",
    "    min_value = nums[0]\n",
    "    index = 1  \n",
    "    while index < len(nums):\n",
    "        if nums[index] < min_value:\n",
    "            min_value = nums[index]  \n",
    "        index += 1 \n",
    "    \n",
    "    return min_value\n",
    "\n",
    "def find_max_with_while_loop(nums):\n",
    "    max_value = nums[0]\n",
    "    index = 1 \n",
    "    \n",
    "    while index < len(nums):\n",
    "        if nums[index] > max_value:\n",
    "            max_value = nums[index]  \n",
    "        index += 1  \n",
    "    \n",
    "    return max_value\n",
    "\n",
    "nums = [2024, 98, 131, 2, 3, 72]\n",
    "min_result = find_min_with_while_loop(nums)\n",
    "max_result = find_max_with_while_loop(nums)\n",
    "\n",
    "print(f\"Minimum: {min_result}\")  \n",
    "print(f\"Maximum: {max_result}\") \n",
    "\n"
   ]
  },
  {
   "cell_type": "markdown",
   "id": "fd00cf5f-18e2-4228-9cb7-51e7c380b1a5",
   "metadata": {},
   "source": [
    "7 Counting Vowels\n",
    "<br> Write a function that takes a string as an input and returns the number of vowels\n",
    "in the string and the number of consonants in the string as tuple. Don’t forget\n",
    "about capital letters! Hint: You can use .isalpha() to check if a character is\n",
    "a letter.\n",
    "<br> text = \"UC Berkeley, founded in 1868!\"\n",
    "<br> vowel_and_consonant_count(text)\n",
    "<br>(4, 11)"
   ]
  },
  {
   "cell_type": "code",
   "execution_count": 36,
   "id": "a9a89922-9aed-46af-8a04-03781aa1dda6",
   "metadata": {},
   "outputs": [
    {
     "name": "stdout",
     "output_type": "stream",
     "text": [
      "(8, 21)\n"
     ]
    }
   ],
   "source": [
    "def vowel_and_consonant_count(text):\n",
    "    vowels = \"aeiouAEIOU\"\n",
    "    vowel_count = 0\n",
    "    consonant_count = 0\n",
    "\n",
    "    for char in text:\n",
    "        if char.isalpha():\n",
    "            if char in vowels:\n",
    "                vowel_count += 1 \n",
    "            else:\n",
    "                consonant_count += 1 \n",
    "\n",
    "    return (vowel_count, consonant_count)\n",
    "\n",
    "\n",
    "text = \"UC Berkeley, founded in 1868!\"\n",
    "result = vowel_and_consonant_count(text)\n",
    "print(result)  \n"
   ]
  },
  {
   "cell_type": "markdown",
   "id": "2b30144f-a411-4ede-9742-07bd78adbc7d",
   "metadata": {},
   "source": [
    "8 Calculate Digital Root\n",
    "<br>Write a function that takes an integer as an input and returns the sum of its\n",
    "digits.\n",
    "<br> num = 2468\n",
    "<br> digital_root(num)\n",
    "<br>20\n",
    "<br>3\n"
   ]
  },
  {
   "cell_type": "code",
   "execution_count": 34,
   "id": "1be5f705-5bff-464b-8908-3c366e25995c",
   "metadata": {},
   "outputs": [
    {
     "name": "stdout",
     "output_type": "stream",
     "text": [
      "20\n"
     ]
    }
   ],
   "source": [
    "def digital_root(num):\n",
    "    digit_sum = 0\n",
    "\n",
    "    while num > 0:\n",
    "        digit_sum += num % 10 \n",
    "        num //= 10  \n",
    "\n",
    "    return digit_sum\n",
    "\n",
    "\n",
    "num = 2468\n",
    "result = digital_root(num)\n",
    "print(result) \n"
   ]
  },
  {
   "cell_type": "code",
   "execution_count": null,
   "id": "57b4b6d3-712e-4e22-ae62-db5d2e257c11",
   "metadata": {},
   "outputs": [],
   "source": []
  }
 ],
 "metadata": {
  "kernelspec": {
   "display_name": "Python 3 (ipykernel)",
   "language": "python",
   "name": "python3"
  },
  "language_info": {
   "codemirror_mode": {
    "name": "ipython",
    "version": 3
   },
   "file_extension": ".py",
   "mimetype": "text/x-python",
   "name": "python",
   "nbconvert_exporter": "python",
   "pygments_lexer": "ipython3",
   "version": "3.12.4"
  }
 },
 "nbformat": 4,
 "nbformat_minor": 5
}
