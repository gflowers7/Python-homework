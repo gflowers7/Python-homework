{
 "cells": [
  {
   "cell_type": "markdown",
   "metadata": {},
   "source": [
    "1 Debugging\n",
    "As you work through this problem set, whenever you encounter an error, please include a comment explaining what the error was and how you later resolved it. You can add these explanations at any relevant place in the file. Example:\n",
    ">>> print(\"Hello, World!\")\n",
    ">>> \"\"\"\n",
    ">>> I encountered the following eror: \"SyntaxError: unterminated\n",
    ">>> string literal (detected at line 1) when I wrote\n",
    ">>> print(\"Hello, World!)\". So I added the missing \" at the end\n",
    ">>> and the code printed it successfully."
   ]
  },
  {
   "cell_type": "markdown",
   "metadata": {},
   "source": [
    "for problem set 2.3, it kept telling me that sub_task2 was undefined when I tried to slice it and then I realized that I never set it equal to something. I fixed it by setting it equal to something and then slicing it.\n",
    "For most of these sections, instead of getting an error, it just wouldn't print anything. So not a lot of errors, just a lot of nothing.\n",
    "got this error on the last problem TypeError: not all arguments converted during string formatting"
   ]
  },
  {
   "cell_type": "markdown",
   "metadata": {},
   "source": [
    "2.1 Making a List Variable\n",
    "Create a variable (name it anything you want, but make it descriptive!) that is assigned to a list with numbers 0 through 20. You should not write each number manually.\n",
    ">>> whateverNameYouWant = # Your code here\n",
    ">>> <br> print(whateverNameYouWant)\n",
    "<br>[0, 1, 2, ..., 20] # It should print all numbers 1-20 in a list"
   ]
  },
  {
   "cell_type": "code",
   "execution_count": 204,
   "metadata": {},
   "outputs": [
    {
     "name": "stdout",
     "output_type": "stream",
     "text": [
      "[0, 1, 2, 3, 4, 5, 6, 7, 8, 9, 10, 11, 12, 13, 14, 15, 16, 17, 18, 19, 20]\n"
     ]
    }
   ],
   "source": [
    "task_1 = []\n",
    "for nums in range(0,21):\n",
    "    task_1.append(nums)\n",
    "    \n",
    "print(task_1)"
   ]
  },
  {
   "cell_type": "markdown",
   "metadata": {},
   "source": [
    "\n",
    "Write a function that will take in your list from Part 2.1 and square each element in the list. Assign the result to a new variable.\n",
    ">>> whateverNameYouWant = # Your code from Part 2.1\n",
    ">>><br>def squareList():\n",
    ">>> <br># Your code here\n",
    "<br>\n",
    ">>> <br>anotherNameYouWant = squareList(list)\n",
    ">>><br> print(anotherNameYouWant)\n",
    "<br>[0, 1, 4, ..., 400]"
   ]
  },
  {
   "cell_type": "code",
   "execution_count": 205,
   "metadata": {},
   "outputs": [
    {
     "name": "stdout",
     "output_type": "stream",
     "text": [
      "[0, 1, 4, 9, 16, 25, 36, 49, 64, 81, 100, 121, 144, 169, 196, 225, 256, 289, 324, 361, 400]\n"
     ]
    }
   ],
   "source": [
    "task_2 = []\n",
    "for nums_2 in task_1:\n",
    "    squares = nums_2 ** 2\n",
    "    task_2.append(squares)\n",
    "\n",
    "print(task_2)\n"
   ]
  },
  {
   "cell_type": "markdown",
   "metadata": {},
   "source": [
    "Write a function that takes in your new list from Part 2.2 and returns the first 15 elements of the list using slicing.\n",
    ">>> anotherNameYouWant = squareList(list)\n",
    ">>> <br>first_fifteen_elements(anotherNameYouWant)\n",
    "<br>[0, 1, 4, ..., 196]"
   ]
  },
  {
   "cell_type": "code",
   "execution_count": 206,
   "metadata": {},
   "outputs": [
    {
     "name": "stdout",
     "output_type": "stream",
     "text": [
      "[0, 1, 4, 9, 16, 25, 36, 49, 64, 81, 100, 121, 144, 169, 196]\n"
     ]
    }
   ],
   "source": [
    "\n",
    "sub_task2= task_2[0:15]\n",
    "print(sub_task2)\n"
   ]
  },
  {
   "cell_type": "markdown",
   "metadata": {},
   "source": [
    "2.4 Striding\n",
    "Write a function that takes in your list from Part 2.2 and returns every 5th element from the list using striding.\n",
    ">>> <br>anotherNameYouWant = squareList(list)\n",
    ">>> <br>every_fifth_element(anotherNameYouWant)\n",
    "<br>[16, 81, 196, 361]"
   ]
  },
  {
   "cell_type": "code",
   "execution_count": 207,
   "metadata": {},
   "outputs": [
    {
     "name": "stdout",
     "output_type": "stream",
     "text": [
      "[16, 81, 196, 361]\n"
     ]
    }
   ],
   "source": [
    "\n",
    "\n",
    "print(task_2[4::5])\n",
    "\n",
    "#stride_task2= task_2[4::5]\n",
    "#print(stride_task2)\n",
    "#I thought I needed to do what I did above but learned that I just needed to print it. "
   ]
  },
  {
   "cell_type": "markdown",
   "metadata": {},
   "source": [
    "2.5 Slicing & Striding\n",
    "Write a function that takes your list from Part 2.2, slices the last 30 elements of the list, and then returns every 3rd element from that list in reverse order.\n",
    ">>> <br>anotherNameYouWant = squareList(list)\n",
    ">>> <br>fancy_function(anotherNameYouWant)\n",
    "<br>[400, 289, 196, 121, 64, 25, 4]\n"
   ]
  },
  {
   "cell_type": "code",
   "execution_count": 208,
   "metadata": {},
   "outputs": [
    {
     "name": "stdout",
     "output_type": "stream",
     "text": [
      "[0, 1, 4, 9, 16, 25, 36, 49, 64, 81, 100, 121, 144, 169, 196, 225, 256, 289, 324, 361, 400]\n",
      "[400, 289, 196, 121, 64, 25, 4]\n"
     ]
    }
   ],
   "source": [
    "#don't know why it is saying 30 but I will try to get the same numbers as the example did.\n",
    "task_2 = []\n",
    "for nums_2 in task_1:\n",
    "    squares = nums_2 ** 2\n",
    "    task_2.append(squares)\n",
    "\n",
    "print(task_2)\n",
    "\n",
    "task_2.reverse()\n",
    "\n",
    "print(task_2[::3])"
   ]
  },
  {
   "cell_type": "markdown",
   "metadata": {},
   "source": [
    "3 3D Lists\n",
    "<br>3.1 Creating a 5x5 2D List\n",
    "<br>Write a function that uses nested for loops to create a 5x5 2D list where the numbers 1 through 25 are stored sequentially. Assign the result to a new variable.\n",
    ">>> <br>matrix = create_2d_list()\n",
    ">>> <br>print(matrix)\n",
    "<br>[[1, 2, 3, 4, 5], [6, 7, 8, 9, 10], [11, 12, 13, 14, 15],\n",
    "<br>[16, 17, 18, 19, 20], [21, 22, 23, 24, 25]]\n"
   ]
  },
  {
   "cell_type": "code",
   "execution_count": 209,
   "metadata": {},
   "outputs": [
    {
     "name": "stdout",
     "output_type": "stream",
     "text": [
      "[['?', 22, 23, '?', 25], [6, 7, 8, 9, 10]]\n"
     ]
    }
   ],
   "source": [
    "nestedList = [list1, list2] #list3, list4, list5]\n",
    "list1 = []\n",
    "for number1 in range(1,6):\n",
    "    list1.append(number1)\n",
    "    \n",
    "    list2 = []\n",
    "    for number2 in range(6,11):\n",
    "        list2.append(number2)\n",
    "    list = []\n",
    "  \n",
    "print(nestedList)\n",
    "#this is just me trying to understand how to do it without nested for loops"
   ]
  },
  {
   "cell_type": "code",
   "execution_count": 210,
   "metadata": {},
   "outputs": [
    {
     "name": "stdout",
     "output_type": "stream",
     "text": [
      "[[1, 2, 3, 4, 5], [6, 7, 8, 9, 10], [11, 12, 13, 14, 15], [16, 17, 18, 19, 20], [21, 22, 23, 24, 25]]\n"
     ]
    }
   ],
   "source": [
    "nestedList = []\n",
    "for num in range(0,5):\n",
    "    list1 = []\n",
    "    for num2 in range(0,5):\n",
    "        function = num * 5 + num2 + 1 #figured out I had to add a 1 so it wouldn't start at zero, I originally had 0,6 then changed it to 0,5 \n",
    "        list1.append(function)\n",
    "    nestedList.append(list1)\n",
    "\n",
    "print(nestedList)"
   ]
  },
  {
   "cell_type": "markdown",
   "metadata": {},
   "source": [
    "3.2 Replacing 2D List with Multiples of 3\n",
    "<br>With the 2D list you created in Part 3.1, write a function that will replace all multiples of 3 with the character “?”.\n",
    ">>><br> matrix = create_2d_list()\n",
    ">>> <br>modified_2d_list(matrix)\n",
    "<br>[[1, 2, ‘?’, 4, 5],\n",
    "<br>[‘?’, 7, 8, ‘?’, 10],\n",
    "<br>[11, ‘?’, 13, 14, ‘?’],\n",
    "<br>[16, 17, ‘?’, 19, 20],\n",
    "<br>[‘?’, 22, 23, ‘?’, 25]]\n"
   ]
  },
  {
   "cell_type": "code",
   "execution_count": 211,
   "metadata": {},
   "outputs": [
    {
     "name": "stdout",
     "output_type": "stream",
     "text": [
      "[[1, 2, 3, 4, 5], [6, 7, 8, 9, 10], [11, 12, 13, 14, 15], [16, 17, 18, 19, 20], [21, 22, 23, 24, 25]]\n"
     ]
    }
   ],
   "source": [
    "nestedList = []\n",
    "for num in range(0,5):\n",
    "    list1 = []\n",
    "    for num2 in range(0,5):\n",
    "        function = num * 5 + num2 + 1 \n",
    "        list1.append(function)\n",
    "    nestedList.append(list1)\n",
    "\n",
    "\n",
    "print(nestedList)"
   ]
  },
  {
   "cell_type": "code",
   "execution_count": 212,
   "metadata": {},
   "outputs": [
    {
     "data": {
      "text/plain": [
       "[[1, 2, '?', 4, 5],\n",
       " ['?', 7, 8, '?', 10],\n",
       " [11, '?', 13, 14, '?'],\n",
       " [16, 17, '?', 19, 20],\n",
       " ['?', 22, 23, '?', 25]]"
      ]
     },
     "execution_count": 212,
     "metadata": {},
     "output_type": "execute_result"
    }
   ],
   "source": [
    "nestedList = []\n",
    "for num in range(0,5):\n",
    "    list1 = []\n",
    "    for num2 in range(0,5):\n",
    "        function = num * 5 + num2 + 1 \n",
    "        list1.append(function)\n",
    "    nestedList.append(list1)\n",
    "\n",
    "def nestedMatrix(): \n",
    "    for list in range(len(nestedList)):\n",
    "        for numbers in range(len(nestedList[list])):\n",
    "            if nestedList[list][numbers] % 3 == 0:\n",
    "                nestedList[list][numbers] = \"?\"\n",
    "    return nestedList\n",
    "\n",
    "\n",
    "nestedMatrix()\n"
   ]
  },
  {
   "cell_type": "markdown",
   "metadata": {},
   "source": [
    "3.3 Summing None-’ ?’ Elements\n",
    "<br>Assign the result of your function from Part 3.2 to a variable. Write a function that will iterate through the new 2D list variable and return the sum of all the elements that are not “?”. Hint: Try using “!=”.\n",
    ">>><br>matrix = create_2d_list()\n",
    ">>> <br>new_matrix = modified_2d_list(matrix)\n",
    ">>> <br>sum_non_question_elements(new_matrix)\n",
    "<br>217"
   ]
  },
  {
   "cell_type": "code",
   "execution_count": 213,
   "metadata": {},
   "outputs": [
    {
     "name": "stdout",
     "output_type": "stream",
     "text": [
      "0\n",
      "1\n",
      "2\n",
      "3\n",
      "4\n",
      "0\n",
      "1\n",
      "2\n",
      "3\n",
      "4\n",
      "0\n",
      "1\n",
      "2\n",
      "3\n",
      "4\n",
      "0\n",
      "1\n",
      "2\n",
      "3\n",
      "4\n",
      "0\n",
      "1\n",
      "2\n",
      "3\n",
      "4\n"
     ]
    },
    {
     "data": {
      "text/plain": [
       "50"
      ]
     },
     "execution_count": 213,
     "metadata": {},
     "output_type": "execute_result"
    }
   ],
   "source": [
    "nestedList = []\n",
    "for num in range(0,5):\n",
    "    list1 = []\n",
    "    for num2 in range(0,5):\n",
    "        function = num * 5 + num2 + 1 \n",
    "        list1.append(function)\n",
    "    nestedList.append(list1)\n",
    "\n",
    "def nestedMatrix(): \n",
    "    for list in range(len(nestedList)):\n",
    "        for numbers in range(len(nestedList[list])):\n",
    "            if nestedList[list][numbers] % 3 == 0:\n",
    "                nestedList[list][numbers] = \"?\"\n",
    "    return nestedList\n",
    "\n",
    "def SummingFunction(listInput):\n",
    "    sum = 0\n",
    "    for list in range(len(listInput)):\n",
    "        for numbers in range(len(listInput[list])):\n",
    "            print(numbers)\n",
    "            if numbers != \"?\":\n",
    "                sum += numbers\n",
    "    return sum\n",
    "\n",
    "SummingFunction(nestedList)\n",
    "#ran into this issue\n"
   ]
  },
  {
   "cell_type": "code",
   "execution_count": 214,
   "metadata": {},
   "outputs": [
    {
     "name": "stdout",
     "output_type": "stream",
     "text": [
      "[[1, 2, '?', 4, 5], ['?', 7, 8, '?', 10], [11, '?', 13, 14, '?'], [16, 17, '?', 19, 20], ['?', 22, 23, '?', 25]]\n"
     ]
    },
    {
     "data": {
      "text/plain": [
       "217"
      ]
     },
     "execution_count": 214,
     "metadata": {},
     "output_type": "execute_result"
    }
   ],
   "source": [
    "nestedList = nestedMatrix()\n",
    "print(nestedList)\n",
    "\n",
    "def SummingFunction(listInput):\n",
    "    totalSum = 0\n",
    "    for list in range(len(listInput)):\n",
    "        for numbers in range(len(listInput[list])):\n",
    "            if listInput[list][numbers] != \"?\":\n",
    "                totalSum += listInput[list][numbers]\n",
    "    return totalSum\n",
    "\n",
    "SummingFunction(nestedList)"
   ]
  },
  {
   "cell_type": "code",
   "execution_count": null,
   "metadata": {},
   "outputs": [],
   "source": []
  }
 ],
 "metadata": {
  "kernelspec": {
   "display_name": "Python 3",
   "language": "python",
   "name": "python3"
  },
  "language_info": {
   "codemirror_mode": {
    "name": "ipython",
    "version": 3
   },
   "file_extension": ".py",
   "mimetype": "text/x-python",
   "name": "python",
   "nbconvert_exporter": "python",
   "pygments_lexer": "ipython3",
   "version": "3.9.6"
  }
 },
 "nbformat": 4,
 "nbformat_minor": 2
}
